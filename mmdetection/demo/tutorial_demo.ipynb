{
 "cells": [
  {
   "cell_type": "code",
   "execution_count": null,
   "id": "74c9dc8f",
   "metadata": {},
   "outputs": [],
   "source": [
    "!git clone https://github.com/open-mmlab/mmdetection.git"
   ]
  },
  {
   "cell_type": "code",
   "execution_count": 26,
   "id": "f302e37c",
   "metadata": {},
   "outputs": [
    {
     "name": "stderr",
     "output_type": "stream",
     "text": [
      "C:\\Users\\quhb2\\anaconda3\\envs\\torch-sub\\lib\\site-packages\\_distutils_hack\\__init__.py:30: UserWarning: Setuptools is replacing distutils.\n",
      "  warnings.warn(\"Setuptools is replacing distutils.\")\n",
      "Traceback (most recent call last):\n",
      "  File \"C:\\Users\\quhb2\\anaconda3\\envs\\torch-sub\\lib\\runpy.py\", line 194, in _run_module_as_main\n",
      "    return _run_code(code, main_globals, None,\n",
      "  File \"C:\\Users\\quhb2\\anaconda3\\envs\\torch-sub\\lib\\runpy.py\", line 87, in _run_code\n",
      "    exec(code, run_globals)\n",
      "  File \"C:\\Users\\quhb2\\anaconda3\\envs\\torch-sub\\Scripts\\mim.exe\\__main__.py\", line 7, in <module>\n",
      "  File \"C:\\Users\\quhb2\\anaconda3\\envs\\torch-sub\\lib\\site-packages\\click\\core.py\", line 829, in __call__\n",
      "    return self.main(*args, **kwargs)\n",
      "  File \"C:\\Users\\quhb2\\anaconda3\\envs\\torch-sub\\lib\\site-packages\\click\\core.py\", line 782, in main\n",
      "    rv = self.invoke(ctx)\n",
      "  File \"C:\\Users\\quhb2\\anaconda3\\envs\\torch-sub\\lib\\site-packages\\click\\core.py\", line 1259, in invoke\n",
      "    return _process_result(sub_ctx.command.invoke(sub_ctx))\n",
      "  File \"C:\\Users\\quhb2\\anaconda3\\envs\\torch-sub\\lib\\site-packages\\click\\core.py\", line 1066, in invoke\n",
      "    return ctx.invoke(self.callback, **ctx.params)\n",
      "  File \"C:\\Users\\quhb2\\anaconda3\\envs\\torch-sub\\lib\\site-packages\\click\\core.py\", line 610, in invoke\n",
      "    return callback(*args, **kwargs)\n",
      "  File \"C:\\Users\\quhb2\\anaconda3\\envs\\torch-sub\\lib\\site-packages\\mim\\commands\\download.py\", line 43, in cli\n",
      "    download(package, configs, dest_root)\n",
      "  File \"C:\\Users\\quhb2\\anaconda3\\envs\\torch-sub\\lib\\site-packages\\mim\\commands\\download.py\", line 74, in download\n",
      "    model_info = get_model_info(\n",
      "  File \"C:\\Users\\quhb2\\anaconda3\\envs\\torch-sub\\lib\\site-packages\\mim\\commands\\search.py\", line 169, in get_model_info\n",
      "    dataframe = convert2df(metadata)\n",
      "  File \"C:\\Users\\quhb2\\anaconda3\\envs\\torch-sub\\lib\\site-packages\\mim\\commands\\search.py\", line 392, in convert2df\n",
      "    for key, value in name2collection[collection_name].items():\n",
      "KeyError: 'Cascade Mask R-CNN'\n"
     ]
    }
   ],
   "source": [
    "!mim download mmdet --config yolov3_mobilenetv2_320_300e_coco --dest ."
   ]
  },
  {
   "cell_type": "code",
   "execution_count": 17,
   "id": "32c869e3",
   "metadata": {},
   "outputs": [],
   "source": [
    "from mmdet.apis import init_detector, inference_detector\n",
    "import mmcv\n",
    "import cv2"
   ]
  },
  {
   "cell_type": "code",
   "execution_count": 10,
   "id": "55a2ad93",
   "metadata": {},
   "outputs": [],
   "source": [
    "# Specify the path to model config and checkpoint file\n",
    "config_file = './mmdetection/configs/faster_rcnn/faster_rcnn_r50_fpn_1x_coco.py'\n",
    "checkpoint_file = './mmdetection/checkpoints/faster_rcnn_r50_fpn_1x_coco_20200130-047c8118.pth'"
   ]
  },
  {
   "cell_type": "code",
   "execution_count": 11,
   "id": "935378c4",
   "metadata": {},
   "outputs": [
    {
     "name": "stdout",
     "output_type": "stream",
     "text": [
      "load checkpoint from local path: ./mmdetection/checkpoints/faster_rcnn_r50_fpn_1x_coco_20200130-047c8118.pth\n"
     ]
    }
   ],
   "source": [
    "# build the model from a config file and a checkpoint file\n",
    "model = init_detector(config_file, checkpoint_file, device='cuda:0')"
   ]
  },
  {
   "cell_type": "markdown",
   "id": "24769d96",
   "metadata": {},
   "source": [
    "# Image demo"
   ]
  },
  {
   "cell_type": "code",
   "execution_count": 12,
   "id": "8121e6a4",
   "metadata": {},
   "outputs": [
    {
     "name": "stderr",
     "output_type": "stream",
     "text": [
      "C:\\Users\\quhb2\\anaconda3\\envs\\torch-sub\\lib\\site-packages\\mmdet\\datasets\\utils.py:66: UserWarning: \"ImageToTensor\" pipeline is replaced by \"DefaultFormatBundle\" for batch inference. It is recommended to manually replace it in the test data pipeline in your config file.\n",
      "  warnings.warn(\n"
     ]
    }
   ],
   "source": [
    "# test a single image and show the results\n",
    "img = './mmdetection/demo/demo.jpg'  # or img = mmcv.imread(img), which will only load it once\n",
    "result = inference_detector(model, img)\n",
    "# visualize the results in a new window\n",
    "model.show_result(img, result)\n",
    "# or save the visualization results to image files\n",
    "model.show_result(img, result, out_file='demo/demo_result.jpg')"
   ]
  },
  {
   "cell_type": "markdown",
   "id": "f58eaaf1",
   "metadata": {},
   "source": [
    "# Video demo"
   ]
  },
  {
   "cell_type": "code",
   "execution_count": 21,
   "id": "9af85006",
   "metadata": {},
   "outputs": [],
   "source": [
    "fourcc = cv2.VideoWriter_fourcc(*'mp4v')\n",
    "\n",
    "# test a video and show the results\n",
    "video = mmcv.VideoReader('./mmdetection/demo/demo.mp4')\n",
    "video_writer = cv2.VideoWriter('demo/demo.mp4', fourcc, video.fps, (video.width, video.height))\n",
    "for frame in video:\n",
    "    result = inference_detector(model, frame)\n",
    "    frame = model.show_result(frame, result, score_thr=0.3)\n",
    "    video_writer.write(frame)\n",
    "video_writer.release()"
   ]
  },
  {
   "cell_type": "code",
   "execution_count": null,
   "id": "8bf582e8",
   "metadata": {},
   "outputs": [],
   "source": []
  }
 ],
 "metadata": {
  "kernelspec": {
   "display_name": "Python 3 (ipykernel)",
   "language": "python",
   "name": "python3"
  },
  "language_info": {
   "codemirror_mode": {
    "name": "ipython",
    "version": 3
   },
   "file_extension": ".py",
   "mimetype": "text/x-python",
   "name": "python",
   "nbconvert_exporter": "python",
   "pygments_lexer": "ipython3",
   "version": "3.8.12"
  }
 },
 "nbformat": 4,
 "nbformat_minor": 5
}
